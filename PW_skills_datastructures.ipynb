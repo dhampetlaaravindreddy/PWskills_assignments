{
  "nbformat": 4,
  "nbformat_minor": 0,
  "metadata": {
    "colab": {
      "provenance": []
    },
    "kernelspec": {
      "name": "python3",
      "display_name": "Python 3"
    },
    "language_info": {
      "name": "python"
    }
  },
  "cells": [
    {
      "cell_type": "markdown",
      "source": [
        "#**Theory questions**"
      ],
      "metadata": {
        "id": "bwFLtX93F7w4"
      }
    },
    {
      "cell_type": "markdown",
      "source": [
        "#1)What are data structures, and why are they important?\n",
        "Ans)Data structures are ways of organizing and storing data in a computer so it can be accessed and modified efficiently. They provide a blueprint for how data is arranged, allowing algorithms to perform operations on it in an optimized way.\n",
        "\n",
        "They are important because they are fundamental to building efficient software. Choosing the right data structure for a task can significantly improve the performance, scalability, and memory usage of a program. For instance, a search operation on a large dataset can be instantaneous with an appropriate data structure like a hash table, but incredibly slow with a less suitable one, such as an unsorted list.\n",
        "\n"
      ],
      "metadata": {
        "id": "K-MPyI9SEicr"
      }
    },
    {
      "cell_type": "markdown",
      "source": [
        "#2) Explain the difference between mutable and immutable data types with examples?\n",
        "Ans)Mutable data types can be changed or modified after they're created. Immutable data types cannot be changed after they are assigned.\n",
        "\n",
        "Mutable Examples: list, dict, set. You can add, remove, or change elements within them.\n",
        "\n",
        "Immutable Examples: string, tuple, int, float. If you want to \"change\" an immutable object, you're actually creating a new object with the desired changes.\n",
        "\n"
      ],
      "metadata": {
        "id": "ZQksl8uOGYXh"
      }
    },
    {
      "cell_type": "markdown",
      "source": [
        "#3)What are the main differences between lists and tuples in Python?\n",
        "Ans)Lists are mutable and defined with square brackets []. They are used for collections of items that might change, such as a shopping list.\n",
        "\n",
        "Tuples are immutable and defined with parentheses (). They are used for collections of items that are not expected to change, like geographical coordinates. Since they are immutable, tuples are generally faster than lists."
      ],
      "metadata": {
        "id": "DhsI71qTGlYV"
      }
    },
    {
      "cell_type": "markdown",
      "source": [
        "#4)Describe how dictionaries store data?\n",
        "Ans)Dictionaries store data as key-value pairs. Each unique key is mapped to a specific value. This structure allows for fast data retrieval based on the key, similar to how a real-world dictionary uses a word (the key) to find its definition (the value).\n",
        "\n"
      ],
      "metadata": {
        "id": "KIDTxOUyG3Sp"
      }
    },
    {
      "cell_type": "markdown",
      "source": [
        "#5) Why might you use a set instead of a list in Python?\n",
        "Ans)You would use a set instead of a list when you need to store a collection of unique items and performance for membership testing (in keyword) is a priority. Sets automatically eliminate duplicates. They are also useful for mathematical set operations like unions, intersections, and differences."
      ],
      "metadata": {
        "id": "8Q__FqTqHE_K"
      }
    },
    {
      "cell_type": "markdown",
      "source": [
        "#6)What is a string in Python, and how is it different from a list?\n",
        "Ans)A string is a sequence of characters, such as letters and numbers. It's an immutable data type.\n",
        "\n",
        "A list is an ordered, mutable collection of any data type. You can store numbers, strings, or even other lists within a list.\n",
        "\n",
        "The key difference is that a list can be modified in place, while a string cannot. Any operation that seems to \"change\" a string, like converting it to uppercase, actually creates a new string."
      ],
      "metadata": {
        "id": "Mn9kxRc6HNah"
      }
    },
    {
      "cell_type": "markdown",
      "source": [
        "#7)How do tuples ensure data integrity in Python?\n",
        "Ans)Tuples ensure data integrity because they are immutable. Once created, their contents cannot be changed. This prevents accidental modification of the data, making them ideal for storing data that should remain constant throughout a program's execution, like configuration settings or a person's date of birth."
      ],
      "metadata": {
        "id": "HfNxHCkbHbTw"
      }
    },
    {
      "cell_type": "markdown",
      "source": [
        "#8)What is a hash table, and how does it relate to dictionaries in Python?\n",
        "Ans)A hash table is a data structure that implements an associative array or dictionary. It's the underlying data structure used by dictionaries in Python. A hash table uses a hash function to map keys to an index in an array, allowing for incredibly fast data insertion and retrieval, often in constant time, or O(1)."
      ],
      "metadata": {
        "id": "A6NxveD0Hnyz"
      }
    },
    {
      "cell_type": "markdown",
      "source": [
        "#9)Can lists contain different data types in Python?\n",
        "Ans)Yes, lists in Python can contain different data types. For example, my_list = [10, 'hello', 3.14, True] is a valid list containing an integer, a string, a float, and a boolean.\n",
        "\n"
      ],
      "metadata": {
        "id": "M1LNG1FNH1UH"
      }
    },
    {
      "cell_type": "markdown",
      "source": [
        "#10)Explain why strings are immutable in Python?\n",
        "Ans)Strings are immutable in Python for several reasons:\n",
        "\n",
        "1.Memory Efficiency: By being immutable, different parts of a program can share the same string object in memory, as there's no risk of one part changing the data for another.\n",
        "\n",
        "2.Safety: Immutable objects are thread-safe and can be used as keys in a dictionary or elements in a set, which mutable objects cannot.\n",
        "\n",
        "3.Performance: Python's implementation can make certain optimizations knowing that strings won't change."
      ],
      "metadata": {
        "id": "P77eEuMdH-Os"
      }
    },
    {
      "cell_type": "markdown",
      "source": [
        "#11)What advantages do dictionaries offer over lists for certain tasks?\n",
        "Ans)Dictionaries offer significant advantages over lists for tasks that involve quick lookup by a specific identifier. Instead of iterating through a list to find an item (which can be slow for large lists), you can access the item directly using its key in a dictionary, which is an extremely fast operation."
      ],
      "metadata": {
        "id": "_I5ygg3_IM7_"
      }
    },
    {
      "cell_type": "markdown",
      "source": [
        "#12)Describe a scenario where using a tuple would be preferable over a list?\n",
        "Ans)You would prefer a tuple over a list when representing data that is inherently fixed and unchanging. For example, storing a point's coordinates like (x, y) is a perfect use case for a tuple. The coordinates of a point should not be changed by adding or removing values, and the tuple's immutability ensures this."
      ],
      "metadata": {
        "id": "EQs0OqpzIWd2"
      }
    },
    {
      "cell_type": "markdown",
      "source": [
        "#13) How do sets handle duplicate values in Python?\n",
        "Ans)Sets automatically remove duplicate values. When you add an element to a set that already exists, the set simply ignores the addition. This makes sets perfect for quickly finding unique items in a collection."
      ],
      "metadata": {
        "id": "hYy75JIOIe46"
      }
    },
    {
      "cell_type": "markdown",
      "source": [
        "#14)P How does the “in” keyword work differently for lists and dictionaries?\n",
        "Ans)The in keyword works differently for lists and dictionaries:\n",
        "\n",
        "For lists, x in my_list checks if an element x exists among the values in the list. This is a linear search, which can be slow.\n",
        "\n",
        "For dictionaries, x in my_dict checks if x exists as a key. This is a fast, constant-time operation."
      ],
      "metadata": {
        "id": "JCetLK5UIqEs"
      }
    },
    {
      "cell_type": "markdown",
      "source": [
        "#15)Can you modify the elements of a tuple? Explain why or why not?\n",
        "Ans)No, you cannot modify the elements of a tuple. This is because tuples are immutable. Any attempt to change, add, or remove an element will result in a TypeError. If you need to make changes, you must convert the tuple to a list, make the changes, and then convert it back to a tuple."
      ],
      "metadata": {
        "id": "whX4UShhI_Yg"
      }
    },
    {
      "cell_type": "markdown",
      "source": [
        "#16)What is a nested dictionary, and give an example of its use case?\n",
        "Ans)A nested dictionary is a dictionary where the values are themselves other dictionaries. A common use case is storing structured, hierarchical data, such as a database of student records:\n",
        "Here, each student's ID ('101', '102') is a key that maps to another dictionary containing their personal information."
      ],
      "metadata": {
        "id": "lST5OzvnJNK_"
      }
    },
    {
      "cell_type": "code",
      "source": [
        "#16th question answer\n",
        "student_data = {\n",
        "    '101': {\n",
        "        'name': 'Aravind',\n",
        "        'grade': 'A',\n",
        "        'courses': ['Math', 'Physics']\n",
        "    },\n",
        "    '102': {\n",
        "        'name': 'Venu',\n",
        "        'grade': 'B',\n",
        "        'courses': ['Chemistry', 'Biology']\n",
        "    }\n",
        "}\n"
      ],
      "metadata": {
        "id": "kWKQSbXQJ2Tl"
      },
      "execution_count": 1,
      "outputs": []
    },
    {
      "cell_type": "markdown",
      "source": [
        "#17)Describe the time complexity of accessing elements in a dictionary?\n",
        "Ans)The time complexity of accessing elements in a dictionary is, on average, O(1) or constant time. This means that as the dictionary grows, the time it takes to retrieve an item by its key remains roughly the same. This is because dictionaries use a hash table to find the memory location of the value directly from the key. In the worst-case scenario (due to hash collisions), it can be O(n)."
      ],
      "metadata": {
        "id": "A6eHnVtNKLKG"
      }
    },
    {
      "cell_type": "markdown",
      "source": [
        "#18)In what situations are lists preferred over dictionaries?\n",
        "Ans)Lists are preferred over dictionaries in situations where:\n",
        "\n",
        "Order matters: Lists maintain the order of insertion, whereas dictionaries are unordered (in versions before Python 3.7, and conceptually unordered even after).\n",
        "\n",
        "Sequential access is needed: If you need to iterate through all elements or access them by their position (index), a list is the natural choice.\n",
        "\n",
        "Duplicate values are important: Lists can contain duplicate values, while dictionaries cannot have duplicate keys.\n",
        "\n"
      ],
      "metadata": {
        "id": "_PxaVj9iKW_f"
      }
    },
    {
      "cell_type": "markdown",
      "source": [
        "#19)Why are dictionaries considered unordered, and how does that affect data retrieval?\n",
        "Ans)Dictionaries are considered unordered because, historically, they did not guarantee the order of key-value pairs. While modern Python versions (3.7+) preserve insertion order, the primary way to access data is still by key, not by index. This means you can't rely on accessing the \"third\" item, as its position might not be stable, and its retrieval is always based on its unique key."
      ],
      "metadata": {
        "id": "j1Z7PQiAKi7D"
      }
    },
    {
      "cell_type": "markdown",
      "source": [
        "#20) Explain the difference between a list and a dictionary in terms of data retrieval?\n",
        "Ans)Lists: Data is retrieved by its numerical index (position), starting from 0. Accessing a specific item requires knowing its position.\n",
        "\n",
        "Dictionaries: Data is retrieved by its unique key. You use the key to \"look up\" its associated value. This makes data retrieval much faster and more intuitive when you need to find an item by a specific identifier rather than its position in a sequence."
      ],
      "metadata": {
        "id": "-tuPoLrSKqzV"
      }
    },
    {
      "cell_type": "markdown",
      "source": [
        "#**Practical Questions**"
      ],
      "metadata": {
        "id": "4N61X6-DK1ZD"
      }
    },
    {
      "cell_type": "code",
      "source": [
        "#1)Write a code to create a string with your name and print it?\n",
        "name = \"Aravind\"\n",
        "print(name)\n"
      ],
      "metadata": {
        "colab": {
          "base_uri": "https://localhost:8080/"
        },
        "id": "FqHKTrL3LCgb",
        "outputId": "0cb0aea6-1b23-45c6-8672-7391cc0067c6"
      },
      "execution_count": 5,
      "outputs": [
        {
          "output_type": "stream",
          "name": "stdout",
          "text": [
            "Aravind\n"
          ]
        }
      ]
    },
    {
      "cell_type": "code",
      "source": [
        "#2)Write a code to find the length of the string \"Hello World\"?\n",
        "string = \"Hello World\"\n",
        "length = len(string)\n",
        "print(length)"
      ],
      "metadata": {
        "colab": {
          "base_uri": "https://localhost:8080/"
        },
        "id": "TBdjtUgvMSfW",
        "outputId": "3986d91c-bb8a-4a64-ff9c-800046830e22"
      },
      "execution_count": 6,
      "outputs": [
        {
          "output_type": "stream",
          "name": "stdout",
          "text": [
            "11\n"
          ]
        }
      ]
    },
    {
      "cell_type": "code",
      "source": [
        "#3)Write a code to slice the first 3 characters from the string \"Python Programming\"?\n",
        "my_string = \"Python Programming\"\n",
        "sliced_string = my_string[0:3]\n",
        "print(sliced_string)"
      ],
      "metadata": {
        "colab": {
          "base_uri": "https://localhost:8080/"
        },
        "id": "1rqtii2XMapQ",
        "outputId": "2072dbab-6237-4a36-a13a-555abf3b97ac"
      },
      "execution_count": 7,
      "outputs": [
        {
          "output_type": "stream",
          "name": "stdout",
          "text": [
            "Pyt\n"
          ]
        }
      ]
    },
    {
      "cell_type": "code",
      "source": [
        "#4)Write a code to convert the string \"hello\" to uppercase?\n",
        "my_string = \"hello\"\n",
        "uppercase_string = my_string.upper()\n",
        "print(uppercase_string)"
      ],
      "metadata": {
        "colab": {
          "base_uri": "https://localhost:8080/"
        },
        "id": "nwwbFHEwMqdX",
        "outputId": "530c14ac-fd80-4e33-95dd-ef06e1fcd952"
      },
      "execution_count": 8,
      "outputs": [
        {
          "output_type": "stream",
          "name": "stdout",
          "text": [
            "HELLO\n"
          ]
        }
      ]
    },
    {
      "cell_type": "code",
      "source": [
        "#5)Write a code to replace the word \"apple\" with \"orange\" in the string \"I like apple\"?\n",
        "my_string = \"I like apple\"\n",
        "new_string = my_string.replace(\"apple\", \"orange\")\n",
        "print(new_string)"
      ],
      "metadata": {
        "colab": {
          "base_uri": "https://localhost:8080/"
        },
        "id": "M0bAF9oEMzwk",
        "outputId": "f1a66242-cf6b-4e3b-9598-cedad8a963f0"
      },
      "execution_count": 9,
      "outputs": [
        {
          "output_type": "stream",
          "name": "stdout",
          "text": [
            "I like orange\n"
          ]
        }
      ]
    },
    {
      "cell_type": "code",
      "source": [
        "#6)Write a code to create a list with numbers 1 to 5 and print it?\n",
        "my_list = [1, 2, 3, 4, 5]\n",
        "print(my_list)"
      ],
      "metadata": {
        "colab": {
          "base_uri": "https://localhost:8080/"
        },
        "id": "V1EDBWYOM9TO",
        "outputId": "3655ecaa-a8ab-4f64-e97a-e914c8423f75"
      },
      "execution_count": 10,
      "outputs": [
        {
          "output_type": "stream",
          "name": "stdout",
          "text": [
            "[1, 2, 3, 4, 5]\n"
          ]
        }
      ]
    },
    {
      "cell_type": "code",
      "source": [
        "#7)Write a code to append the number 10 to the list [1, 2, 3, 4]?\n",
        "my_list = [1, 2, 3, 4]\n",
        "my_list.append(10)\n",
        "print(my_list)"
      ],
      "metadata": {
        "colab": {
          "base_uri": "https://localhost:8080/"
        },
        "id": "bGVWE1clNHQY",
        "outputId": "2352489d-007e-4d6f-bc5e-2bc7711c0f78"
      },
      "execution_count": 11,
      "outputs": [
        {
          "output_type": "stream",
          "name": "stdout",
          "text": [
            "[1, 2, 3, 4, 10]\n"
          ]
        }
      ]
    },
    {
      "cell_type": "code",
      "source": [
        "#8) Write a code to remove the number 3 from the list [1, 2, 3, 4, 5]?\n",
        "my_list = [1, 2, 3, 4, 5]\n",
        "my_list.remove(3)\n",
        "print(my_list)"
      ],
      "metadata": {
        "colab": {
          "base_uri": "https://localhost:8080/"
        },
        "id": "7zJTTB-oNS_y",
        "outputId": "c07a5a44-955f-44fa-9338-10097183f970"
      },
      "execution_count": 12,
      "outputs": [
        {
          "output_type": "stream",
          "name": "stdout",
          "text": [
            "[1, 2, 4, 5]\n"
          ]
        }
      ]
    },
    {
      "cell_type": "code",
      "source": [
        "#9) Write a code to access the second element in the list ['a', 'b', 'c', 'd']?\n",
        "my_list = ['a', 'b', 'c', 'd']\n",
        "second_element = my_list[1]\n",
        "print(second_element)"
      ],
      "metadata": {
        "colab": {
          "base_uri": "https://localhost:8080/"
        },
        "id": "nYbu6xtxNit1",
        "outputId": "a32b9ee6-7154-4e2b-a695-39a856e65af4"
      },
      "execution_count": 13,
      "outputs": [
        {
          "output_type": "stream",
          "name": "stdout",
          "text": [
            "b\n"
          ]
        }
      ]
    },
    {
      "cell_type": "code",
      "source": [
        "#10)Write a code to reverse the list [10, 20, 30, 40, 50]?\n",
        "my_list = [10, 20, 30, 40, 50]\n",
        "reversed_list = my_list[::-1]\n",
        "print(reversed_list)"
      ],
      "metadata": {
        "colab": {
          "base_uri": "https://localhost:8080/"
        },
        "id": "lSI-SEx1NsGl",
        "outputId": "bad9bbd1-5157-4db9-a94c-d46223ef8b2a"
      },
      "execution_count": 14,
      "outputs": [
        {
          "output_type": "stream",
          "name": "stdout",
          "text": [
            "[50, 40, 30, 20, 10]\n"
          ]
        }
      ]
    },
    {
      "cell_type": "code",
      "source": [
        "#11)Write a code to create a tuple with the elements 100, 200, 300 and print it?\n",
        "my_tuple = (100, 200, 300)\n",
        "print(my_tuple)"
      ],
      "metadata": {
        "colab": {
          "base_uri": "https://localhost:8080/"
        },
        "id": "vw34jgu1NwUK",
        "outputId": "48652bdb-cfb3-4363-83ab-49f89d5b0047"
      },
      "execution_count": 15,
      "outputs": [
        {
          "output_type": "stream",
          "name": "stdout",
          "text": [
            "(100, 200, 300)\n"
          ]
        }
      ]
    },
    {
      "cell_type": "code",
      "source": [
        "#12). Write a code to access the second-to-last element of the tuple ('red', 'green', 'blue', 'yellow')?\n",
        "my_tuple = ('red', 'green', 'blue', 'yellow')\n",
        "second_to_last_element = my_tuple[-2]\n",
        "print(second_to_last_element)\n"
      ],
      "metadata": {
        "colab": {
          "base_uri": "https://localhost:8080/"
        },
        "id": "O1o5jo_JOLQR",
        "outputId": "3610358f-3144-4940-a000-e8389d06e5ed"
      },
      "execution_count": 16,
      "outputs": [
        {
          "output_type": "stream",
          "name": "stdout",
          "text": [
            "blue\n"
          ]
        }
      ]
    },
    {
      "cell_type": "code",
      "source": [
        "#13) Write a code to find the minimum number in the tuple (10, 20, 5, 15)?\n",
        "my_tuple = (10, 20, 5, 15)\n",
        "minimum_number = min(my_tuple)\n",
        "print(minimum_number)"
      ],
      "metadata": {
        "colab": {
          "base_uri": "https://localhost:8080/"
        },
        "id": "vcZgYObKOV20",
        "outputId": "eabc75d6-d935-4f59-f146-68172195aa99"
      },
      "execution_count": 17,
      "outputs": [
        {
          "output_type": "stream",
          "name": "stdout",
          "text": [
            "5\n"
          ]
        }
      ]
    },
    {
      "cell_type": "code",
      "source": [
        "#14) Write a code to find the index of the element \"cat\" in the tuple ('dog', 'cat', 'rabbit')\n",
        "my_tuple = ('dog', 'cat', 'rabbit')\n",
        "index_of_cat = my_tuple.index('cat')\n",
        "print(index_of_cat)"
      ],
      "metadata": {
        "colab": {
          "base_uri": "https://localhost:8080/"
        },
        "id": "AKJHsxNyPco8",
        "outputId": "071849c9-6602-40e4-b561-01cbf509fae5"
      },
      "execution_count": 18,
      "outputs": [
        {
          "output_type": "stream",
          "name": "stdout",
          "text": [
            "1\n"
          ]
        }
      ]
    },
    {
      "cell_type": "code",
      "source": [
        "#15) Write a code to create a tuple containing three different fruits and check if \"kiwi\" is in it.\n",
        "fruits = ('apple', 'banana', 'orange')\n",
        "if 'kiwi' in fruits:\n",
        "    print(\"Kiwi is in the tuple.\")\n",
        "else:\n",
        "    print(\"Kiwi is not in the tuple.\")"
      ],
      "metadata": {
        "colab": {
          "base_uri": "https://localhost:8080/"
        },
        "id": "cZGFgVOfPlxl",
        "outputId": "aa6061e1-ebdd-4843-c490-4dcd72fbaa4a"
      },
      "execution_count": 21,
      "outputs": [
        {
          "output_type": "stream",
          "name": "stdout",
          "text": [
            "Kiwi is not in the tuple.\n"
          ]
        }
      ]
    },
    {
      "cell_type": "code",
      "source": [
        "#16)Write a code to create a set with the elements 'a', 'b', 'c' and print it.\n",
        "my_set = {'a', 'b', 'c'}\n",
        "print(my_set)"
      ],
      "metadata": {
        "colab": {
          "base_uri": "https://localhost:8080/"
        },
        "id": "ae1-91_ePvFK",
        "outputId": "82a8ad7b-eddb-447b-aabd-38bd4fd03a76"
      },
      "execution_count": 20,
      "outputs": [
        {
          "output_type": "stream",
          "name": "stdout",
          "text": [
            "{'b', 'a', 'c'}\n"
          ]
        }
      ]
    },
    {
      "cell_type": "code",
      "source": [
        "#17) Write a code to clear all elements from the set {1, 2, 3, 4, 5}.\n",
        "my_set = {1, 2, 3, 4, 5}\n",
        "my_set.clear()\n",
        "print(my_set)"
      ],
      "metadata": {
        "colab": {
          "base_uri": "https://localhost:8080/"
        },
        "id": "iETT85tmQGNh",
        "outputId": "03b56db0-fb16-44e1-9aa8-12ef1b59c774"
      },
      "execution_count": 22,
      "outputs": [
        {
          "output_type": "stream",
          "name": "stdout",
          "text": [
            "set()\n"
          ]
        }
      ]
    },
    {
      "cell_type": "code",
      "source": [
        "#18) Write a code to remove the element 4 from the set {1, 2, 3, 4}.\n",
        "my_set = {1, 2, 3, 4}\n",
        "my_set.remove(4)\n",
        "print(my_set)"
      ],
      "metadata": {
        "colab": {
          "base_uri": "https://localhost:8080/"
        },
        "id": "YpQ7XCUlQUBk",
        "outputId": "2a965c58-5dc4-4f41-aa11-6195c1c0d97f"
      },
      "execution_count": 23,
      "outputs": [
        {
          "output_type": "stream",
          "name": "stdout",
          "text": [
            "{1, 2, 3}\n"
          ]
        }
      ]
    },
    {
      "cell_type": "code",
      "source": [
        "#19) Write a code to find the union of two sets {1, 2, 3} and {3, 4, 5}.\n",
        "set1 = {1, 2, 3}\n",
        "set2 = {3, 4, 5}\n",
        "union_set = set1.union(set2)\n",
        "print(union_set)"
      ],
      "metadata": {
        "colab": {
          "base_uri": "https://localhost:8080/"
        },
        "id": "oye5yY7xQcQP",
        "outputId": "16117274-b050-485e-8000-00e9593f6f82"
      },
      "execution_count": 24,
      "outputs": [
        {
          "output_type": "stream",
          "name": "stdout",
          "text": [
            "{1, 2, 3, 4, 5}\n"
          ]
        }
      ]
    },
    {
      "cell_type": "code",
      "source": [
        "#20)Write a code to find the intersection of two sets {1, 2, 3} and {2, 3, 4}.\n",
        "set1 = {1, 2, 3}\n",
        "set2 = {2, 3, 4}\n",
        "intersection_set = set1.intersection(set2)\n",
        "print(intersection_set)"
      ],
      "metadata": {
        "colab": {
          "base_uri": "https://localhost:8080/"
        },
        "id": "U0uD8ysgQjpK",
        "outputId": "0c5e6b28-b179-49c0-da5f-8a8e8d8ef9c3"
      },
      "execution_count": 25,
      "outputs": [
        {
          "output_type": "stream",
          "name": "stdout",
          "text": [
            "{2, 3}\n"
          ]
        }
      ]
    },
    {
      "cell_type": "code",
      "source": [
        "#21)Write a code to create a dictionary with the keys \"name\", \"age\", and \"city\", and print it.\n",
        "my_dict = {\n",
        "    \"name\": \"Aravind\",\n",
        "    \"age\": 22,\n",
        "    \"city\": \"Hyderabad\"\n",
        "}\n",
        "print(my_dict)"
      ],
      "metadata": {
        "colab": {
          "base_uri": "https://localhost:8080/"
        },
        "id": "ZpnswBgAQrgX",
        "outputId": "70252b41-d258-48ad-f0da-f987bee01ab0"
      },
      "execution_count": 27,
      "outputs": [
        {
          "output_type": "stream",
          "name": "stdout",
          "text": [
            "{'name': 'Aravind', 'age': 22, 'city': 'Hyderabad'}\n"
          ]
        }
      ]
    },
    {
      "cell_type": "code",
      "source": [
        "#22)Write a code to add a new key-value pair \"country\": \"USA\" to the dictionary {'name': 'John', 'age': 25}.\n",
        "my_dict = {'name': 'John', 'age': 25}\n",
        "my_dict[\"country\"] = \"USA\"\n",
        "print(my_dict)"
      ],
      "metadata": {
        "colab": {
          "base_uri": "https://localhost:8080/"
        },
        "id": "RrXkZBW0RH5x",
        "outputId": "e4c08587-0761-47b2-a8d9-037c7f27f803"
      },
      "execution_count": 30,
      "outputs": [
        {
          "output_type": "stream",
          "name": "stdout",
          "text": [
            "{'name': 'John', 'age': 25, 'country': 'USA'}\n"
          ]
        }
      ]
    },
    {
      "cell_type": "code",
      "source": [
        "#23)Write a code to access the value associated with the key \"name\" in the dictionary {'name': 'Alice', 'age': 30}.\n",
        "my_dict = {'name': 'Alice', 'age': 30}\n",
        "name_value = my_dict[\"name\"]\n",
        "print(name_value)"
      ],
      "metadata": {
        "colab": {
          "base_uri": "https://localhost:8080/"
        },
        "id": "6-V6KozdRekr",
        "outputId": "b59d1ded-1b0e-419b-a1f9-68e1daf69844"
      },
      "execution_count": 31,
      "outputs": [
        {
          "output_type": "stream",
          "name": "stdout",
          "text": [
            "Alice\n"
          ]
        }
      ]
    },
    {
      "cell_type": "code",
      "source": [
        "#24) Write a code to remove the key \"age\" from the dictionary {'name': 'Bob', 'age': 22, 'city': 'New York'}.\n",
        "my_dict = {'name': 'Bob', 'age': 22, 'city': 'New York'}\n",
        "del my_dict[\"age\"]\n",
        "print(my_dict)"
      ],
      "metadata": {
        "colab": {
          "base_uri": "https://localhost:8080/"
        },
        "id": "tHJ9ILdARmmR",
        "outputId": "6ba03ccc-dd8f-4184-f5a6-ae7a5cd0d907"
      },
      "execution_count": 32,
      "outputs": [
        {
          "output_type": "stream",
          "name": "stdout",
          "text": [
            "{'name': 'Bob', 'city': 'New York'}\n"
          ]
        }
      ]
    },
    {
      "cell_type": "code",
      "source": [
        "#25) Write a code to check if the key \"city\" exists in the dictionary {'name': 'Alice', 'city': 'Paris'}\n",
        "my_dict = {'name': 'Alice', 'city': 'Paris'}\n",
        "if \"city\" in my_dict:\n",
        "    print(\"The key 'city' exists in the dictionary.\")\n",
        "else:\n",
        "    print(\"The key 'city' does not exist in the dictionary.\")"
      ],
      "metadata": {
        "colab": {
          "base_uri": "https://localhost:8080/"
        },
        "id": "aVDHbPIpRxsA",
        "outputId": "3d3c8124-33c3-48ce-aa2d-f3c787bb370f"
      },
      "execution_count": 33,
      "outputs": [
        {
          "output_type": "stream",
          "name": "stdout",
          "text": [
            "The key 'city' exists in the dictionary.\n"
          ]
        }
      ]
    },
    {
      "cell_type": "code",
      "source": [
        "#26) Write a code to create a list, a tuple, and a dictionary, and print them all\n",
        "my_list = [1, 2, 3]\n",
        "my_tuple = ('a', 'b', 'c')\n",
        "my_dict = {'key': 'value'}\n",
        "\n",
        "print(\"List:\", my_list)\n",
        "print(\"Tuple:\", my_tuple)\n",
        "print(\"Dictionary:\", my_dict)"
      ],
      "metadata": {
        "colab": {
          "base_uri": "https://localhost:8080/"
        },
        "id": "slADRVlLR5Yy",
        "outputId": "a0d27fad-ede2-4939-fffa-c2c437d0f8da"
      },
      "execution_count": 35,
      "outputs": [
        {
          "output_type": "stream",
          "name": "stdout",
          "text": [
            "List: [1, 2, 3]\n",
            "Tuple: ('a', 'b', 'c')\n",
            "Dictionary: {'key': 'value'}\n"
          ]
        }
      ]
    },
    {
      "cell_type": "code",
      "source": [
        "#27)Write a code to create a list of 5 random numbers between 1 and 100, sort it in ascending order, and print the result.(replaced)\n",
        "import random\n",
        "\n",
        "random_numbers = [random.randint(1, 100) for _ in range(5)]\n",
        "random_numbers.sort()\n",
        "print(random_numbers)"
      ],
      "metadata": {
        "colab": {
          "base_uri": "https://localhost:8080/"
        },
        "id": "j3LHoDGDR9aH",
        "outputId": "298d67a8-77f9-4153-e65e-af690903e6d8"
      },
      "execution_count": 36,
      "outputs": [
        {
          "output_type": "stream",
          "name": "stdout",
          "text": [
            "[12, 19, 36, 41, 61]\n"
          ]
        }
      ]
    },
    {
      "cell_type": "code",
      "source": [
        "#28)Write a code to create a list with strings and print the element at the third index\n",
        "my_list = [\"apple\", \"banana\", \"cherry\", \"orange\", \"grape\"]\n",
        "third_element = my_list[2]\n",
        "print(third_element)"
      ],
      "metadata": {
        "colab": {
          "base_uri": "https://localhost:8080/"
        },
        "id": "zgKT4mBaSQ-0",
        "outputId": "01475f31-a756-4bf7-c2ee-1e9755f00b76"
      },
      "execution_count": 37,
      "outputs": [
        {
          "output_type": "stream",
          "name": "stdout",
          "text": [
            "cherry\n"
          ]
        }
      ]
    },
    {
      "cell_type": "code",
      "source": [
        "#29) Write a code to combine two dictionaries into one and print the result.\n",
        "dict1 = {'a': 1, 'b': 2}\n",
        "dict2 = {'c': 3, 'd': 4}\n",
        "combined_dict = {**dict1, **dict2}\n",
        "print(combined_dict)"
      ],
      "metadata": {
        "colab": {
          "base_uri": "https://localhost:8080/"
        },
        "id": "znnQPfPnSZy3",
        "outputId": "23087bc0-01e5-49c3-de67-3f4e7b8fb5e8"
      },
      "execution_count": 38,
      "outputs": [
        {
          "output_type": "stream",
          "name": "stdout",
          "text": [
            "{'a': 1, 'b': 2, 'c': 3, 'd': 4}\n"
          ]
        }
      ]
    },
    {
      "cell_type": "code",
      "source": [
        "#30)Write a code to convert a list of strings into a set.\n",
        "my_list = [\"apple\", \"banana\", \"apple\", \"cherry\"]\n",
        "my_set = set(my_list)\n",
        "print(my_set)"
      ],
      "metadata": {
        "colab": {
          "base_uri": "https://localhost:8080/"
        },
        "id": "Elkvyux0SgT6",
        "outputId": "6df816a3-18f4-4cf0-acd8-b913a962d7fa"
      },
      "execution_count": 39,
      "outputs": [
        {
          "output_type": "stream",
          "name": "stdout",
          "text": [
            "{'banana', 'cherry', 'apple'}\n"
          ]
        }
      ]
    }
  ]
}