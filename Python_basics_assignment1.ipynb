{
  "nbformat": 4,
  "nbformat_minor": 0,
  "metadata": {
    "colab": {
      "provenance": []
    },
    "kernelspec": {
      "name": "python3",
      "display_name": "Python 3"
    },
    "language_info": {
      "name": "python"
    }
  },
  "cells": [
    {
      "cell_type": "markdown",
      "source": [
        "#1) What is Python, and why is it popular?\n",
        "Ans)Python is a high-level, interpreted programming language known for its simplicity and readability. It's popular for its versatility across various domains, including web development, data science, and artificial intelligence, and it's supported by a large community and extensive libraries."
      ],
      "metadata": {
        "id": "o1FEQcuht00f"
      }
    },
    {
      "cell_type": "markdown",
      "source": [
        "#2) What is an interpreter in Python?\n",
        "Ans)An interpreter is a program that reads and executes code line by line. Unlike a compiler that translates the entire code into machine language at once, an interpreter processes and runs each line of the source code as it encounters it. In Python, the interpreter executes your script directly, which makes development and debugging faster.\n",
        "\n"
      ],
      "metadata": {
        "id": "OD5p2_GhvqkF"
      }
    },
    {
      "cell_type": "markdown",
      "source": [
        "#3)What are pre-defined keywords in Python?\n",
        "Ans)Keywords are reserved words in Python that have special meanings and are used to define the syntax and structure of the language. They cannot be used as identifiers (like variable or function names) because they are integral to the language's functionality. Examples include if, else, for, while, True, and False."
      ],
      "metadata": {
        "id": "n14Azn0nwE0i"
      }
    },
    {
      "cell_type": "markdown",
      "source": [
        "#4) Can keywords be used as variable names?\n",
        "Ans)No, keywords cannot be used as variable names because they are reserved for specific functions within the Python language. Attempting to use a keyword as an identifier will result in a syntax error.\n",
        "\n"
      ],
      "metadata": {
        "id": "mEWkEKjwwgNo"
      }
    },
    {
      "cell_type": "code",
      "source": [
        "#example for 4th question:\n",
        "if = 6\n",
        "if\n",
        ""
      ],
      "metadata": {
        "colab": {
          "base_uri": "https://localhost:8080/",
          "height": 106
        },
        "id": "mKu13CBExXPY",
        "outputId": "22db7838-99db-46ab-ab13-e9e277cea8de"
      },
      "execution_count": 2,
      "outputs": [
        {
          "output_type": "error",
          "ename": "SyntaxError",
          "evalue": "invalid syntax (ipython-input-770460274.py, line 2)",
          "traceback": [
            "\u001b[0;36m  File \u001b[0;32m\"/tmp/ipython-input-770460274.py\"\u001b[0;36m, line \u001b[0;32m2\u001b[0m\n\u001b[0;31m    if = 6\u001b[0m\n\u001b[0m       ^\u001b[0m\n\u001b[0;31mSyntaxError\u001b[0m\u001b[0;31m:\u001b[0m invalid syntax\n"
          ]
        }
      ]
    },
    {
      "cell_type": "markdown",
      "source": [
        "#5)What is mutability in Python?\n",
        "Ans)Mutability refers to the ability of an object to be changed after it has been created. A mutable object's state or content can be modified in place, while an immutable object cannot be altered once it's created. Any operation that seems to change an immutable object actually creates a new object."
      ],
      "metadata": {
        "id": "mtfzVQH5ww3M"
      }
    },
    {
      "cell_type": "markdown",
      "source": [
        "#6)Why are lists mutable, but tuples are immutable?\n",
        "Ans)Lists are mutable because they are designed to be dynamic collections where elements can be added, removed, or modified after creation. This is useful for data that needs frequent changes. Tuples are immutable because they are meant to store a fixed, unchanging sequence of data. Their immutability makes them more memory-efficient and faster to process, and it ensures the integrity of the data they hold."
      ],
      "metadata": {
        "id": "a0-x7n5dw-LX"
      }
    },
    {
      "cell_type": "markdown",
      "source": [
        "#7)What is the difference between “==” and “is” operators in Python?\n",
        "Ans)The'==' operator checks for value equality, meaning it determines if two objects have the same value. The is operator checks for identity, meaning it determines if two variables refer to the exact same object in memory."
      ],
      "metadata": {
        "id": "X3atXa2ZxwOz"
      }
    },
    {
      "cell_type": "code",
      "source": [
        "#example for 7th question\n",
        "a = [1, 2, 3]\n",
        "b = [1, 2, 3]\n",
        "print(a == b)  # This will output True"
      ],
      "metadata": {
        "colab": {
          "base_uri": "https://localhost:8080/"
        },
        "id": "mVGE17YuyREh",
        "outputId": "e0f56593-bbcd-4847-8387-e23efd1e0415"
      },
      "execution_count": 3,
      "outputs": [
        {
          "output_type": "stream",
          "name": "stdout",
          "text": [
            "True\n"
          ]
        }
      ]
    },
    {
      "cell_type": "markdown",
      "source": [
        "#8)What are logical operators in Python?\n",
        "Ans)Logical operators are used to combine conditional statements. The three main logical operators are:\n",
        "\n",
        "and: Returns True if both operands are true.\n",
        "\n",
        "or: Returns True if at least one of the operands is true.\n",
        "\n",
        "not: Reverses the logical state of its operand (if it's True, it becomes False, and vice versa)."
      ],
      "metadata": {
        "id": "k6AMrVZLyvTM"
      }
    },
    {
      "cell_type": "markdown",
      "source": [
        "#9)What is type casting in Python ?\n",
        "Ans)Type casting (or type conversion) is the process of converting an object from one data type to another. For example, you can convert an integer to a string or a float to an integer. This is necessary when you need to perform an operation on data of a different type than what you have.\n",
        "\n"
      ],
      "metadata": {
        "id": "W4r147hQzG8r"
      }
    },
    {
      "cell_type": "markdown",
      "source": [
        "#10)What is the difference between implicit and explicit type casting ?\n",
        "Ans)Implicit type casting (or automatic type conversion) is done automatically by the Python interpreter without any user intervention. This usually happens when converting a smaller data type to a larger one to avoid data loss, such as an int to a float.\n",
        "Explicit type casting (or forced type conversion) is performed by the user using built-in functions like int(), float(), or str(). This is done when you want to convert an object to a specific type, even if it might result in data loss."
      ],
      "metadata": {
        "id": "bgV_djhVza4y"
      }
    },
    {
      "cell_type": "markdown",
      "source": [
        "#11)What is the purpose of conditional statements in Python?\n",
        "Ans)The purpose of conditional statements is to execute specific blocks of code only if certain conditions are met. They allow a program to make decisions and control the flow of execution, enabling different outcomes based on different inputs or states. The primary conditional statements are if, elif, and else.\n",
        "\n",
        ""
      ],
      "metadata": {
        "id": "puFdj8NzzlYU"
      }
    },
    {
      "cell_type": "code",
      "source": [
        "#example for 11th question\n",
        "age = 20\n",
        "if age >= 18:\n",
        "    print(\"You are an adult.\")\n",
        "else:\n",
        "    print(\"You are a minor.\")"
      ],
      "metadata": {
        "colab": {
          "base_uri": "https://localhost:8080/"
        },
        "id": "KOku5hLA0GRD",
        "outputId": "fb5fdb53-5f3e-4c9e-d45e-e47532dbe5a1"
      },
      "execution_count": 4,
      "outputs": [
        {
          "output_type": "stream",
          "name": "stdout",
          "text": [
            "You are an adult.\n"
          ]
        }
      ]
    },
    {
      "cell_type": "markdown",
      "source": [
        "#12) How does the elif statement work ?\n",
        "Ans)The elif statement is short for \"else if.\" It's used in conjunction with an if statement to check for an additional condition if the preceding if condition (and any previous elif conditions) evaluates to False. The interpreter checks if first. If that's False, it moves to the first elif, and so on. As soon as a condition evaluates to True, the corresponding code block is executed, and the rest of the elif and else blocks are skipped."
      ],
      "metadata": {
        "id": "bboa2Eas08Wf"
      }
    },
    {
      "cell_type": "code",
      "source": [
        "#example for 12th question\n",
        "score = 85\n",
        "if score >= 90:\n",
        "    print(\"Grade: A\")\n",
        "elif score >= 80:\n",
        "    print(\"Grade: B\")\n",
        "elif score >= 70:\n",
        "    print(\"Grade: C\")"
      ],
      "metadata": {
        "colab": {
          "base_uri": "https://localhost:8080/"
        },
        "id": "a4tmGrPM1Ykf",
        "outputId": "a6ef929a-4c42-4bb2-b91a-00ba23f5122c"
      },
      "execution_count": 5,
      "outputs": [
        {
          "output_type": "stream",
          "name": "stdout",
          "text": [
            "Grade: B\n"
          ]
        }
      ]
    },
    {
      "cell_type": "markdown",
      "source": [
        "#13)What is the difference between for and while loops ?\n",
        "Ans)A for loop is used to iterate over a sequence (like a list, tuple, or string) or any iterable object. It's best used when you know the number of iterations in advance.\n",
        "\n",
        "A while loop is used to execute a block of code repeatedly as long as a certain condition remains True. It's best used when the number of iterations is not known beforehand."
      ],
      "metadata": {
        "id": "IH-0HM8U1LdD"
      }
    },
    {
      "cell_type": "markdown",
      "source": [
        "#14)Describe a scenario where a while loop is more suitable than a for loop?\n",
        "Ans)A while loop is more suitable for a scenario where you need to repeat an action until a specific, unpredictable condition is met. For example, a common use case is a user input validation loop. You could use a while loop to repeatedly prompt the user for input until they enter a valid value, such as a number within a specific range. You don't know how many times the user will enter an invalid value, so a while loop is the perfect choice."
      ],
      "metadata": {
        "id": "rYUe5Yhm1lif"
      }
    },
    {
      "cell_type": "markdown",
      "source": [
        "#Practical Questions"
      ],
      "metadata": {
        "id": "8NyUPaQe2IX_"
      }
    },
    {
      "cell_type": "code",
      "source": [
        "#1)Write a Python program to print \"Hello, World!y\"?\n",
        "print(\"Hello, World!\")"
      ],
      "metadata": {
        "colab": {
          "base_uri": "https://localhost:8080/"
        },
        "id": "iBBKzBTQ3MKr",
        "outputId": "72a61b44-79f2-49d9-a296-1d93ac73d591"
      },
      "execution_count": 6,
      "outputs": [
        {
          "output_type": "stream",
          "name": "stdout",
          "text": [
            "Hello, World!\n"
          ]
        }
      ]
    },
    {
      "cell_type": "code",
      "source": [
        "#2)Write a Python program that displays your name and age?\n",
        "name = \"Aravind\"\n",
        "age = 22\n",
        "print(\"My name is\", name, \"and I am\", age, \"years old.\")"
      ],
      "metadata": {
        "colab": {
          "base_uri": "https://localhost:8080/"
        },
        "id": "G73jChLS3W1G",
        "outputId": "9cb40169-c395-4b59-a8c4-2f50d68cea18"
      },
      "execution_count": 7,
      "outputs": [
        {
          "output_type": "stream",
          "name": "stdout",
          "text": [
            "My name is Aravind and I am 22 years old.\n"
          ]
        }
      ]
    },
    {
      "cell_type": "code",
      "source": [
        "#3)Write code to print all the pre-defined keywords in Python using the keyword library?\n",
        "import keyword\n",
        "print(\"list of keywords in python: \")\n",
        "for k in keyword.kwlist:\n",
        "  print(k, end=\", \")\n",
        "print(\"\")\n",
        "print(\"No. of keywords in python: \", len(keyword.kwlist))"
      ],
      "metadata": {
        "colab": {
          "base_uri": "https://localhost:8080/"
        },
        "id": "Hbs9pgZI4GCZ",
        "outputId": "e6726504-9bc8-45b1-aeb8-df8e7133b236"
      },
      "execution_count": 9,
      "outputs": [
        {
          "output_type": "stream",
          "name": "stdout",
          "text": [
            "list of keywords in python: \n",
            "False, None, True, and, as, assert, async, await, break, class, continue, def, del, elif, else, except, finally, for, from, global, if, import, in, is, lambda, nonlocal, not, or, pass, raise, return, try, while, with, yield, \n",
            "No. of keywords in python:  35\n"
          ]
        }
      ]
    },
    {
      "cell_type": "code",
      "source": [
        "#4)Write a program that checks if a given word is a Python keyword?\n",
        "import keyword\n",
        "\n",
        "word = input(\"Enter a word to check if it's a keyword: \")\n",
        "if word in keyword.kwlist:\n",
        "    print(f\"'{word}' is a Python keyword.\")\n",
        "else:\n",
        "    print(f\"'{word}' is not a Python keyword.\")"
      ],
      "metadata": {
        "colab": {
          "base_uri": "https://localhost:8080/"
        },
        "id": "hdCzLZpE4qtf",
        "outputId": "cc632bae-6872-4038-ba70-db4c6b3a4f34"
      },
      "execution_count": 11,
      "outputs": [
        {
          "output_type": "stream",
          "name": "stdout",
          "text": [
            "Enter a word to check if it's a keyword: ram\n",
            "'ram' is not a Python keyword.\n"
          ]
        }
      ]
    },
    {
      "cell_type": "code",
      "source": [
        "#5)Create a list and tuple in Python, and demonstrate how attempting to change an element works differently for each?\n",
        "# Create a list and a tuple\n",
        "my_list = [1, 2, 3]\n",
        "my_tuple = (1, 2, 3)\n",
        "\n",
        "# Attempt to change an element in the list (this works)\n",
        "print(\"Original list:\", my_list)\n",
        "my_list[1] = 99\n",
        "print(\"Modified list:\", my_list)\n",
        "\n",
        "# Attempt to change an element in the tuple (this will raise an error)\n",
        "print(\"\\nOriginal tuple:\", my_tuple)\n",
        "try:\n",
        "    my_tuple[1] = 99\n",
        "except TypeError as e:\n",
        "    print(\"Error when trying to modify tuple:\", e)"
      ],
      "metadata": {
        "colab": {
          "base_uri": "https://localhost:8080/"
        },
        "id": "vZ2J9DLB41Gg",
        "outputId": "681268ee-c98a-47cd-eea0-aed3e8b146ab"
      },
      "execution_count": 12,
      "outputs": [
        {
          "output_type": "stream",
          "name": "stdout",
          "text": [
            "Original list: [1, 2, 3]\n",
            "Modified list: [1, 99, 3]\n",
            "\n",
            "Original tuple: (1, 2, 3)\n",
            "Error when trying to modify tuple: 'tuple' object does not support item assignment\n"
          ]
        }
      ]
    },
    {
      "cell_type": "code",
      "source": [
        "#6)Write a function to demonstrate the behavior of mutable and immutable arguments?\n",
        "def modify_values(immutable_arg, mutable_arg):\n",
        "    # This creates a new integer object and doesn't change the original variable\n",
        "    immutable_arg += 1\n",
        "\n",
        "    # This modifies the original list object\n",
        "    mutable_arg.append(\"new item\")\n",
        "\n",
        "    print(\"Inside function:\")\n",
        "    print(\"Immutable argument after modification:\", immutable_arg)\n",
        "    print(\"Mutable argument after modification:\", mutable_arg)\n",
        "\n",
        "# Let's see the effect outside the function\n",
        "x = 10\n",
        "y = [1, 2, 3]\n",
        "\n",
        "print(\"Before function call:\")\n",
        "print(\"x (immutable):\", x)\n",
        "print(\"y (mutable):\", y)\n",
        "\n",
        "modify_values(x, y)\n",
        "\n",
        "print(\"\\nAfter function call:\")\n",
        "print(\"x (immutable) remains unchanged:\", x)\n",
        "print(\"y (mutable) has been changed:\", y)"
      ],
      "metadata": {
        "colab": {
          "base_uri": "https://localhost:8080/"
        },
        "id": "saBM-ngZ5Fxb",
        "outputId": "df7a4373-6c5f-4357-8743-146da72fc09e"
      },
      "execution_count": 13,
      "outputs": [
        {
          "output_type": "stream",
          "name": "stdout",
          "text": [
            "Before function call:\n",
            "x (immutable): 10\n",
            "y (mutable): [1, 2, 3]\n",
            "Inside function:\n",
            "Immutable argument after modification: 11\n",
            "Mutable argument after modification: [1, 2, 3, 'new item']\n",
            "\n",
            "After function call:\n",
            "x (immutable) remains unchanged: 10\n",
            "y (mutable) has been changed: [1, 2, 3, 'new item']\n"
          ]
        }
      ]
    },
    {
      "cell_type": "code",
      "source": [
        "#7) Write a program that performs basic arithmetic operations on two user-input numbers?\n",
        "num1 = float(input(\"Enter the first number: \"))\n",
        "num2 = float(input(\"Enter the second number: \"))\n",
        "\n",
        "print(f\"{num1} + {num2} = {num1 + num2}\")\n",
        "print(f\"{num1} - {num2} = {num1 - num2}\")\n",
        "print(f\"{num1} * {num2} = {num1 * num2}\")\n",
        "if num2 != 0:\n",
        "    print(f\"{num1} / {num2} = {num1 / num2}\")\n",
        "else:\n",
        "    print(\"Division by zero is not possible.\")"
      ],
      "metadata": {
        "colab": {
          "base_uri": "https://localhost:8080/"
        },
        "id": "pro131Ov5W-T",
        "outputId": "d72198bd-6090-435f-ac6c-b58ce7641254"
      },
      "execution_count": 14,
      "outputs": [
        {
          "output_type": "stream",
          "name": "stdout",
          "text": [
            "Enter the first number: 0\n",
            "Enter the second number: 6\n",
            "0.0 + 6.0 = 6.0\n",
            "0.0 - 6.0 = -6.0\n",
            "0.0 * 6.0 = 0.0\n",
            "0.0 / 6.0 = 0.0\n"
          ]
        }
      ]
    },
    {
      "cell_type": "code",
      "source": [
        "#8) Write a program to demonstrate the use of logical operators?\n",
        "a = True\n",
        "b = False\n",
        "c = 10\n",
        "d = 20\n",
        "\n",
        "print(f\"a is {a}, b is {b}\")\n",
        "\n",
        "# 'and' operator: returns True if both are true\n",
        "print(f\"a and b: {a and b}\")\n",
        "\n",
        "# 'or' operator: returns True if at least one is true\n",
        "print(f\"a or b: {a or b}\")\n",
        "\n",
        "# 'not' operator: negates the boolean value\n",
        "print(f\"not a: {not a}\")\n",
        "\n",
        "# Using logical operators in a condition\n",
        "if (c > 5) and (d < 30):\n",
        "    print(\"Both conditions are true.\")\n",
        "else:\n",
        "    print(\"At least one condition is false.\")"
      ],
      "metadata": {
        "colab": {
          "base_uri": "https://localhost:8080/"
        },
        "id": "sQ2i_yZ-5jMB",
        "outputId": "affe12d0-e11e-43c4-d7f3-f043c8d9a797"
      },
      "execution_count": 15,
      "outputs": [
        {
          "output_type": "stream",
          "name": "stdout",
          "text": [
            "a is True, b is False\n",
            "a and b: False\n",
            "a or b: True\n",
            "not a: False\n",
            "Both conditions are true.\n"
          ]
        }
      ]
    },
    {
      "cell_type": "code",
      "source": [
        "#9)Write a Python program to convert user input from string to integer, float, and boolean types?\n",
        "user_input_str = input(\"Enter a number or word: \")\n",
        "\n",
        "# Convert to integer\n",
        "try:\n",
        "    int_value = int(user_input_str)\n",
        "    print(f\"As an integer: {int_value}\")\n",
        "except ValueError:\n",
        "    print(\"Could not convert to integer.\")\n",
        "\n",
        "# Convert to float\n",
        "try:\n",
        "    float_value = float(user_input_str)\n",
        "    print(f\"As a float: {float_value}\")\n",
        "except ValueError:\n",
        "    print(\"Could not convert to float.\")\n",
        "\n",
        "# Convert to boolean\n",
        "bool_value = bool(user_input_str)\n",
        "print(f\"As a boolean (empty string is False): {bool_value}\")"
      ],
      "metadata": {
        "colab": {
          "base_uri": "https://localhost:8080/"
        },
        "id": "k2_51Tpp558j",
        "outputId": "a484cdae-28bb-48bf-a4b1-d9118c49cfec"
      },
      "execution_count": 16,
      "outputs": [
        {
          "output_type": "stream",
          "name": "stdout",
          "text": [
            "Enter a number or word: value\n",
            "Could not convert to integer.\n",
            "Could not convert to float.\n",
            "As a boolean (empty string is False): True\n"
          ]
        }
      ]
    },
    {
      "cell_type": "code",
      "source": [
        "#10)Write code to demonstrate type casting with list elements?\n",
        "str_list = [\"10\", \"20\", \"30\"]\n",
        "print(\"Original list of strings:\", str_list)\n",
        "\n",
        "# Convert each string element to an integer\n",
        "int_list = [int(x) for x in str_list]\n",
        "print(\"List of integers:\", int_list)\n",
        "\n",
        "# Convert each integer element to a float\n",
        "float_list = [float(x) for x in int_list]\n",
        "print(\"List of floats:\", float_list)"
      ],
      "metadata": {
        "colab": {
          "base_uri": "https://localhost:8080/"
        },
        "id": "8LjQRcBe6Pi-",
        "outputId": "9fcbf947-f347-4bd1-9712-cb527d3cd4be"
      },
      "execution_count": 17,
      "outputs": [
        {
          "output_type": "stream",
          "name": "stdout",
          "text": [
            "Original list of strings: ['10', '20', '30']\n",
            "List of integers: [10, 20, 30]\n",
            "List of floats: [10.0, 20.0, 30.0]\n"
          ]
        }
      ]
    },
    {
      "cell_type": "code",
      "source": [
        "#11) Write a program that checks if a number is positive, negative, or zero?\n",
        "number = float(input(\"Enter a number: \"))\n",
        "\n",
        "if number > 0:\n",
        "    print(\"The number is positive.\")\n",
        "elif number < 0:\n",
        "    print(\"The number is negative.\")\n",
        "else:\n",
        "    print(\"The number is zero.\")"
      ],
      "metadata": {
        "colab": {
          "base_uri": "https://localhost:8080/"
        },
        "id": "4kYFguG960pB",
        "outputId": "4778917a-3cba-40f4-e1c3-5cffc9b36374"
      },
      "execution_count": 18,
      "outputs": [
        {
          "output_type": "stream",
          "name": "stdout",
          "text": [
            "Enter a number: 6\n",
            "The number is positive.\n"
          ]
        }
      ]
    },
    {
      "cell_type": "code",
      "source": [
        "#12)Write a for loop to print numbers from 1 to 10?\n",
        "for i in range(1, 11):\n",
        "    print(i)"
      ],
      "metadata": {
        "colab": {
          "base_uri": "https://localhost:8080/"
        },
        "id": "98lIsWba6-qT",
        "outputId": "5ae28e15-13d6-4d05-96d3-a08e84ec968a"
      },
      "execution_count": 19,
      "outputs": [
        {
          "output_type": "stream",
          "name": "stdout",
          "text": [
            "1\n",
            "2\n",
            "3\n",
            "4\n",
            "5\n",
            "6\n",
            "7\n",
            "8\n",
            "9\n",
            "10\n"
          ]
        }
      ]
    },
    {
      "cell_type": "code",
      "source": [
        "#13) Write a Python program to find the sum of all even numbers between 1 and 50.?\n",
        "sum_even = 0\n",
        "for num in range(2, 51, 2):\n",
        "    sum_even += num\n",
        "print(\"The sum of even numbers from 1 to 50 is:\", sum_even)"
      ],
      "metadata": {
        "colab": {
          "base_uri": "https://localhost:8080/"
        },
        "id": "CbCaZ3hz7NsL",
        "outputId": "84b98e6c-cc91-4aae-9a22-d9d21b335626"
      },
      "execution_count": 20,
      "outputs": [
        {
          "output_type": "stream",
          "name": "stdout",
          "text": [
            "The sum of even numbers from 1 to 50 is: 650\n"
          ]
        }
      ]
    },
    {
      "cell_type": "code",
      "source": [
        "#14). Write a program to reverse a string using a while loop?\n",
        "input_string = input(\"Enter a string: \")\n",
        "reversed_string = \"\"\n",
        "index = len(input_string) - 1\n",
        "\n",
        "while index >= 0:\n",
        "    reversed_string += input_string[index]\n",
        "    index -= 1"
      ],
      "metadata": {
        "colab": {
          "base_uri": "https://localhost:8080/"
        },
        "id": "6lUmblfU7WOg",
        "outputId": "a540a6e5-b4ff-4279-9d0d-b43e80c33f33"
      },
      "execution_count": 21,
      "outputs": [
        {
          "name": "stdout",
          "output_type": "stream",
          "text": [
            "Enter a string: \"Hello, World!\"\n"
          ]
        }
      ]
    },
    {
      "cell_type": "code",
      "source": [
        "#15) Write a Python program to calculate the factorial of a number provided by the user using a while loop?\n",
        "num = int(input(\"Enter a non-negative integer: \"))\n",
        "\n",
        "if num < 0:\n",
        "    print(\"Factorial is not defined for negative numbers.\")\n",
        "elif num == 0:\n",
        "    print(\"The factorial of 0 is 1.\")\n",
        "else:\n",
        "    factorial = 1\n",
        "    counter = 1\n",
        "    while counter <= num:\n",
        "        factorial *= counter\n",
        "        counter += 1\n",
        "    print(f\"The factorial of {num} is {factorial}.\")"
      ],
      "metadata": {
        "colab": {
          "base_uri": "https://localhost:8080/"
        },
        "id": "ueRc5Zhz7o1Z",
        "outputId": "5df8201a-0ee1-4f74-f931-380f1eff8893"
      },
      "execution_count": 22,
      "outputs": [
        {
          "output_type": "stream",
          "name": "stdout",
          "text": [
            "Enter a non-negative integer: 6\n",
            "The factorial of 6 is 720.\n"
          ]
        }
      ]
    }
  ]
}