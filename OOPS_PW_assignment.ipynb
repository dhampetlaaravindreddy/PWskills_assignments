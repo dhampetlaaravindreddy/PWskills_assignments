{
  "nbformat": 4,
  "nbformat_minor": 0,
  "metadata": {
    "colab": {
      "provenance": []
    },
    "kernelspec": {
      "name": "python3",
      "display_name": "Python 3"
    },
    "language_info": {
      "name": "python"
    }
  },
  "cells": [
    {
      "cell_type": "markdown",
      "source": [
        "#**Python OOPs Questions**"
      ],
      "metadata": {
        "id": "IOjCklKMZk-t"
      }
    },
    {
      "cell_type": "markdown",
      "source": [
        "#1)What is Object-Oriented Programming (OOP)?\n",
        "Ans)Object-Oriented Programming (OOP) is a programming paradigm based on the concept of \"objects,\" which can contain data in the form of fields (often known as attributes or properties) and code in the form of procedures (often known as methods). The main idea is to bundle data and the methods that operate on that data into a single unit, or object."
      ],
      "metadata": {
        "id": "LNTEfkTnZvyu"
      }
    },
    {
      "cell_type": "markdown",
      "source": [
        "#2)What is a class in OOP?\n",
        "Ans)A class is a blueprint or a template for creating objects. It defines a set of attributes and methods that the created objects (instances) will have. For example, a Car class could define attributes like color and model, and methods like start_engine() and drive()."
      ],
      "metadata": {
        "id": "yuqBDpiMZ9gk"
      }
    },
    {
      "cell_type": "markdown",
      "source": [
        "#3)What is an object in OOP?\n",
        "Ans)An object is an instance of a class. When a class is defined, no memory is allocated until an object of that class is created. An object has its own state (values for its attributes) and behavior (its methods). For example, my_blue_tesla could be an object of the Car class with color set to \"blue\"."
      ],
      "metadata": {
        "id": "CbQp3NvoaIwu"
      }
    },
    {
      "cell_type": "markdown",
      "source": [
        "#4)What is the difference between abstraction and encapsulation?\n",
        "Ans)Abstraction focuses on hiding complexity. It shows only the essential features of an object while hiding the unnecessary details. For example, when you drive a car, you only need to know how to use the steering wheel and pedals (the interface), not how the engine works internally.\n",
        "\n",
        "Encapsulation is about bundling data and methods. It binds the data (attributes) and the code that manipulates the data (methods) together and keeps them safe from outside interference. It's like a capsule that contains both the medicine and the instructions for how it works."
      ],
      "metadata": {
        "id": "RipChqSJaOXg"
      }
    },
    {
      "cell_type": "markdown",
      "source": [
        "#5) What are dunder methods in Python?\n",
        "Ans)Dunder methods (short for \"double underscore\" methods) are special methods in Python that are surrounded by double underscores, like __init__ or __str__. They are also called magic methods. They allow you to emulate the behavior of built-in types. For example, defining the __add__ method allows you to use the + operator on objects of your class."
      ],
      "metadata": {
        "id": "0NZCvCP6aZIs"
      }
    },
    {
      "cell_type": "markdown",
      "source": [
        "#6)Explain the concept of inheritance in OOP.\n",
        "Ans)Inheritance is a mechanism where a new class (the subclass or child class) inherits attributes and methods from an existing class (the superclass or parent class). This promotes code reusability. For example, a Motorcycle class and a Truck class can both inherit common properties like speed and methods like accelerate() from a parent Vehicle class."
      ],
      "metadata": {
        "id": "2FLqRgC4afdy"
      }
    },
    {
      "cell_type": "markdown",
      "source": [
        "#7)What is polymorphism in OOP?\n",
        "Ans)Polymorphism (from Greek, meaning \"many forms\") is the ability of an object to take on many forms. In programming, it means that a single function or method name can work for different types of objects. For example, a speak() method could be implemented differently in a Dog class (\"Woof!\") and a Cat class (\"Meow!\"), but you can call animal.speak() on any animal object.\n",
        "\n"
      ],
      "metadata": {
        "id": "a4MArleSamyU"
      }
    },
    {
      "cell_type": "markdown",
      "source": [
        "#8)How is encapsulation achieved in Python?\n",
        "Ans)Python achieves encapsulation through a convention of naming attributes with prefixes.\n",
        "\n",
        "Single Underscore (_): A prefix like _variable indicates that an attribute is \"protected\" and intended for internal use. It's a hint to other programmers not to access it directly.\n",
        "\n",
        "Double Underscore (__): A prefix like __variable invokes name mangling, making it harder to access from outside the class (e.g., _ClassName__variable). This is used for \"private\" attributes.\n",
        "\n",
        "However, Python doesn't have true private variables like Java or C++; these are just conventions to prevent accidental modification."
      ],
      "metadata": {
        "id": "9XncC7HfavZa"
      }
    },
    {
      "cell_type": "markdown",
      "source": [
        "#9)What is a constructor in Python?\n",
        "Ans)In Python, the constructor is a special method named __init__. It's automatically called when a new object of a class is created. Its primary purpose is to initialize the object's attributes with initial values."
      ],
      "metadata": {
        "id": "C15gyiG2a4i1"
      }
    },
    {
      "cell_type": "markdown",
      "source": [
        "#10) What are class and static methods in Python?\n",
        "Ans)A class method is bound to the class and not the object. It takes the class itself (cls) as its first argument. It can modify class-level state. It is defined using the @classmethod decorator.\n",
        "\n",
        "A static method is not bound to the class or the object. It doesn't receive any special first argument (self or cls). It's essentially a regular function that is namespaced within the class. It is defined using the @staticmethod decorator."
      ],
      "metadata": {
        "id": "QtRubymWbJvA"
      }
    },
    {
      "cell_type": "markdown",
      "source": [
        "#11)What is method overloading in Python?\n",
        "Ans)Python does not support traditional method overloading (defining multiple methods with the same name but different parameters within the same class). However, you can achieve similar functionality by using default arguments, or by using *args and **kwargs to handle a variable number of arguments."
      ],
      "metadata": {
        "id": "2K-4uRgwbRKn"
      }
    },
    {
      "cell_type": "markdown",
      "source": [
        "#12) What is method overriding in OOP?\n",
        "Ans)Method overriding occurs when a subclass provides a specific implementation for a method that is already defined in its superclass. This allows the subclass to modify or extend the behavior of the inherited method.\n",
        "\n"
      ],
      "metadata": {
        "id": "9OhJ81O_beAy"
      }
    },
    {
      "cell_type": "markdown",
      "source": [
        "#13)What is a property decorator in Python?\n",
        "Ans)The @property decorator is a Pythonic way to create getters, setters, and deleters. It lets you define methods that can be accessed like attributes. This is useful for controlling access to an attribute, for example, by adding validation logic when setting its value."
      ],
      "metadata": {
        "id": "WLeg4uJ6bjY_"
      }
    },
    {
      "cell_type": "markdown",
      "source": [
        "#14)Why is polymorphism important in OOP?\n",
        "ANs)Polymorphism is important because it allows for writing flexible, reusable, and extensible code. It lets you write generic code that can work with objects of different classes without needing to know their specific type, as long as they share a common interface (e.g., have the same method names). This simplifies the code and makes it easier to add new classes to the system later."
      ],
      "metadata": {
        "id": "tG9qrRmrbpUo"
      }
    },
    {
      "cell_type": "markdown",
      "source": [
        "#15)What is an abstract class in Python?\n",
        "Ans)An abstract class is a class that cannot be instantiated. Its purpose is to serve as a blueprint for other classes. It can define abstract methods (methods with a declaration but no implementation), which must be implemented by any subclass that inherits from it. Python provides the abc (Abstract Base Classes) module to implement this."
      ],
      "metadata": {
        "id": "97zfZQkAbuPI"
      }
    },
    {
      "cell_type": "markdown",
      "source": [
        "#16)What are the advantages of OOP?\n",
        "Ans)The main advantages of OOP are:\n",
        "\n",
        "1.Modularity: Encapsulation makes\n",
        "objects self-contained, simplifying troubleshooting.\n",
        "\n",
        "2.Reusability: Inheritance allows code to be reused from existing classes.\n",
        "\n",
        "3.Maintainability: OOP code is often easier to understand, modify, and maintain.\n",
        "\n",
        "5.Flexibility: Polymorphism allows a single interface to be used for a general class of actions."
      ],
      "metadata": {
        "id": "L4O85y5iby19"
      }
    },
    {
      "cell_type": "markdown",
      "source": [
        "#17) What is the difference between a class variable and an instance variable?\n",
        "Ans)A class variable is shared by all instances (objects) of a class. It is defined within the class but outside any methods. If one object changes the class variable, the change is reflected in all other objects.\n",
        "\n",
        "An instance variable is unique to each instance of a class. It is defined inside a method, usually the constructor (__init__), and is prefixed with self."
      ],
      "metadata": {
        "id": "OqDgw-THcHhQ"
      }
    },
    {
      "cell_type": "markdown",
      "source": [
        "#18)What is multiple inheritance in Python?\n",
        "Ans)Multiple inheritance is a feature where a class can inherit attributes and methods from more than one parent class. This allows a class to combine the features of several existing classes."
      ],
      "metadata": {
        "id": "8WlvzE2rcQht"
      }
    },
    {
      "cell_type": "markdown",
      "source": [
        "#19)Explain the purpose of __str__ and __repr__ methods in Python.\n",
        "Ans)__str__ is used to provide an informal or \"user-friendly\" string representation of an object. It's what the print() function and the str() built-in use. The goal is readability.\n",
        "\n",
        "__repr__ is used to provide an official or \"developer-friendly\" string representation of an object. The goal is to be unambiguous, and ideally, eval(repr(obj)) == obj. It's what's shown in the interactive console when you type the object's name."
      ],
      "metadata": {
        "id": "-aDoHyHHcW-Y"
      }
    },
    {
      "cell_type": "markdown",
      "source": [
        "#20)What is the significance of the super() function in Python?\n",
        "Ans)The super() function is used in a subclass to call methods of its superclass. It's particularly useful in the __init__ method to ensure that the parent class's constructor is called, properly initializing the inherited parts of the object. It allows you to extend the functionality of the parent's method without completely replacing it."
      ],
      "metadata": {
        "id": "fms5iWHFchst"
      }
    },
    {
      "cell_type": "markdown",
      "source": [
        "#21)What is the significance of the __del__ method in Python?\n",
        "Ans)The __del__ method is a finalizer or destructor. It is called when an object is about to be destroyed, which happens when its reference count drops to zero. It's not a true destructor in the C++ sense, as the timing of its execution is not guaranteed. It's often used to clean up resources, like closing file handles or network connections.\n",
        "\n"
      ],
      "metadata": {
        "id": "XsJ12BhLco11"
      }
    },
    {
      "cell_type": "markdown",
      "source": [
        "#22) What is the difference between @staticmethod and @classmethod in Python?\n",
        "Ans)The key difference is the first argument they receive:\n",
        "\n",
        "@classmethod: Receives the class itself as the first argument, conventionally named cls. It is used for factory methods that create instances of the class.\n",
        "\n",
        "@staticmethod: Receives no special first argument. It's essentially a regular function namespaced within the class, used for utility functions that are related to the class but don't depend on the state of the class or any instance."
      ],
      "metadata": {
        "id": "Tmt22kEecwaB"
      }
    },
    {
      "cell_type": "markdown",
      "source": [
        "#23)How does polymorphism work in Python with inheritance?\n",
        "Ans)Polymorphism works with inheritance through method overriding. A superclass can define a method, and multiple subclasses can inherit it and provide their own specific implementations. You can then have a list of objects from these different subclasses and call the same method on each one, and the correct version of the method will be executed for each object. This works because Python is dynamically typed, so it determines which method to call at runtime."
      ],
      "metadata": {
        "id": "ELjv4sD8c1tu"
      }
    },
    {
      "cell_type": "markdown",
      "source": [
        "#24)What is method chaining in Python OOP?\n",
        "Ans)Method chaining is a technique where multiple methods are called sequentially on the same object in a single line of code. This is achieved by having each method in the chain return the object instance itself (self). It leads to highly readable and fluent code, especially when configuring an object.\n",
        "\n"
      ],
      "metadata": {
        "id": "fk7gKmRLc8hj"
      }
    },
    {
      "cell_type": "markdown",
      "source": [
        "#25)What is the purpose of the __call__ method in Python?\n",
        "Ans)The __call__ method allows an instance of a class to be called as if it were a function. When you define __call__ in a class, you can then \"call\" objects of that class with parentheses () and pass arguments. This is useful for creating objects that maintain a state between calls, like function objects or decorators."
      ],
      "metadata": {
        "id": "I2I8SqIJdBYL"
      }
    },
    {
      "cell_type": "markdown",
      "source": [
        "#**Practical Questions**"
      ],
      "metadata": {
        "id": "q86dWhcGdIcs"
      }
    },
    {
      "cell_type": "code",
      "source": [
        "#1. Create a parent class Animal with a method speak() that prints a generic message. Create a child class Dog that overrides the speak() method to print \"Bark!\".\n",
        "# Parent class\n",
        "class Animal:\n",
        "    def speak(self):\n",
        "        print(\"This animal makes a sound.\")\n",
        "#child class\n",
        "class Dog(Animal):\n",
        "    def speak(self):\n",
        "        print(\"Bark!\")\n",
        "\n",
        "\n",
        "a = Animal()\n",
        "d = Dog()\n",
        "\n",
        "a.speak()\n",
        "d.speak()\n"
      ],
      "metadata": {
        "colab": {
          "base_uri": "https://localhost:8080/"
        },
        "id": "PCjirJAXdRPt",
        "outputId": "e6d805a5-58dd-4655-a28a-fb64128b9e90"
      },
      "execution_count": 1,
      "outputs": [
        {
          "output_type": "stream",
          "name": "stdout",
          "text": [
            "This animal makes a sound.\n",
            "Bark!\n"
          ]
        }
      ]
    },
    {
      "cell_type": "code",
      "source": [
        "#2. Write a program to create an abstract class Shape with a method area(). Derive classes Circle and Rectangle from it and implement the area() method in both.\n",
        "from abc import ABC, abstractmethod\n",
        "import math\n",
        "\n",
        "class Shape(ABC):\n",
        "    @abstractmethod\n",
        "    def area(self):\n",
        "        pass\n",
        "\n",
        "class Circle(Shape):\n",
        "    def __init__(self, radius):\n",
        "        self.radius = radius\n",
        "\n",
        "    def area(self):\n",
        "        return math.pi * self.radius ** 2\n",
        "\n",
        "class Rectangle(Shape):\n",
        "    def __init__(self, length, breadth):\n",
        "        self.length = length\n",
        "        self.breadth = breadth\n",
        "\n",
        "    def area(self):\n",
        "        return self.length * self.breadth\n",
        "\n",
        "c = Circle(5)\n",
        "r = Rectangle(4, 6)\n",
        "\n",
        "print(\"Area of Circle:\", c.area())\n",
        "print(\"Area of Rectangle:\", r.area())"
      ],
      "metadata": {
        "colab": {
          "base_uri": "https://localhost:8080/"
        },
        "id": "iOlAheudeWh0",
        "outputId": "3e5907e3-7022-41c8-cdc8-d8354834935d"
      },
      "execution_count": 2,
      "outputs": [
        {
          "output_type": "stream",
          "name": "stdout",
          "text": [
            "Area of Circle: 78.53981633974483\n",
            "Area of Rectangle: 24\n"
          ]
        }
      ]
    },
    {
      "cell_type": "code",
      "source": [
        "\n",
        "#3. Implement a multi-level inheritance scenario where a class Vehicle has an attribute type. Derive a class Car and further derive a class ElectricCar that adds a battery attribute.\n",
        "# Base class\n",
        "class Vehicle:\n",
        "    def __init__(self, vehicle_type):\n",
        "        self.type = vehicle_type\n",
        "\n",
        "    def show_type(self):\n",
        "        print(f\"Vehicle Type: {self.type}\")\n",
        "\n",
        "class Car(Vehicle):\n",
        "    def __init__(self, vehicle_type, brand):\n",
        "        super().__init__(vehicle_type)\n",
        "        self.brand = brand\n",
        "\n",
        "    def show_brand(self):\n",
        "        print(f\"Car Brand: {self.brand}\")\n",
        "\n",
        "# Derived class 2 (further derived from Car)\n",
        "class ElectricCar(Car):\n",
        "    def __init__(self, vehicle_type, brand, battery_capacity):\n",
        "        super().__init__(vehicle_type, brand)\n",
        "        self.battery = battery_capacity\n",
        "\n",
        "    def show_details(self):\n",
        "        print(f\"Vehicle Type: {self.type}\")\n",
        "        print(f\"Brand: {self.brand}\")\n",
        "        print(f\"Battery Capacity: {self.battery} kWh\")\n",
        "\n",
        "ecar = ElectricCar(\"Four Wheeler\", \"Tesla\", 75)\n",
        "\n",
        "ecar.show_details()\n"
      ],
      "metadata": {
        "colab": {
          "base_uri": "https://localhost:8080/"
        },
        "id": "LVg8zof4ebJ6",
        "outputId": "65760c1c-4a67-433e-fc7b-3e5cb93c2597"
      },
      "execution_count": 3,
      "outputs": [
        {
          "output_type": "stream",
          "name": "stdout",
          "text": [
            "Vehicle Type: Four Wheeler\n",
            "Brand: Tesla\n",
            "Battery Capacity: 75 kWh\n"
          ]
        }
      ]
    },
    {
      "cell_type": "code",
      "source": [
        "#4. Demonstrate polymorphism by creating a base class Bird with a method fly(). Create two derived classes Sparrow and Penguin that override the fly() method.\n",
        "# Base class\n",
        "class Bird:\n",
        "    def fly(self):\n",
        "        print(\"Most birds can fly.\")\n",
        "\n",
        "class Sparrow(Bird):\n",
        "    def fly(self):\n",
        "        print(\"Sparrow flies high in the sky!\")\n",
        "\n",
        "class Penguin(Bird):\n",
        "    def fly(self):\n",
        "        print(\"Penguins cannot fly but they swim very well!\")\n",
        "\n",
        "# Create objects\n",
        "b1 = Sparrow()\n",
        "b2 = Penguin()\n",
        "\n",
        "# Demonstrate polymorphism\n",
        "for bird in (b1, b2):\n",
        "    bird.fly()"
      ],
      "metadata": {
        "colab": {
          "base_uri": "https://localhost:8080/"
        },
        "id": "jVnLnfmgec2Y",
        "outputId": "f878af12-a7c5-4279-9344-953f360273ec"
      },
      "execution_count": 4,
      "outputs": [
        {
          "output_type": "stream",
          "name": "stdout",
          "text": [
            "Sparrow flies high in the sky!\n",
            "Penguins cannot fly but they swim very well!\n"
          ]
        }
      ]
    },
    {
      "cell_type": "code",
      "source": [
        "#5. Write a program to demonstrate encapsulation by creating a class BankAccount with private attributes balance and methods to deposit, withdraw, and check balance.\n",
        "class BankAccount:\n",
        "    def __init__(self, initial_balance=0):\n",
        "        self.__balance = initial_balance\n",
        "\n",
        "    def deposit(self, amount):\n",
        "        if amount > 0:\n",
        "            self.__balance += amount\n",
        "            print(f\"Deposited: ₹{amount}\")\n",
        "        else:\n",
        "            print(\"Deposit amount must be positive.\")\n",
        "\n",
        "    def withdraw(self, amount):\n",
        "        if 0 < amount <= self.__balance:\n",
        "            self.__balance -= amount\n",
        "            print(f\"Withdrew: ₹{amount}\")\n",
        "        else:\n",
        "            print(\"Insufficient balance or invalid amount.\")\n",
        "\n",
        "    def check_balance(self):\n",
        "        print(f\"Current Balance: ₹{self.__balance}\")\n",
        "\n",
        "account = BankAccount(1000)\n",
        "\n",
        "account.deposit(500)\n",
        "account.withdraw(300)\n",
        "account.check_balance()"
      ],
      "metadata": {
        "colab": {
          "base_uri": "https://localhost:8080/"
        },
        "id": "yfwxi8NceioG",
        "outputId": "464f131c-3432-4f14-9892-c6115aac8ff1"
      },
      "execution_count": 5,
      "outputs": [
        {
          "output_type": "stream",
          "name": "stdout",
          "text": [
            "Deposited: ₹500\n",
            "Withdrew: ₹300\n",
            "Current Balance: ₹1200\n"
          ]
        }
      ]
    },
    {
      "cell_type": "code",
      "source": [
        "#6. Demonstrate runtime polymorphism using a method play() in a base class Instrument. Derive classes Guitar and Piano that implement their own version of play().\n",
        "class Instrument:\n",
        "    def play(self):\n",
        "        print(\"Playing an instrument...\")\n",
        "\n",
        "class Guitar(Instrument):\n",
        "    def play(self):\n",
        "        print(\"Strumming the guitar \")\n",
        "\n",
        "class Piano(Instrument):\n",
        "    def play(self):\n",
        "        print(\"Playing the piano \")\n",
        "\n",
        "instruments = [Guitar(), Piano()]\n",
        "\n",
        "for instrument in instruments:\n",
        "    instrument.play()\n"
      ],
      "metadata": {
        "colab": {
          "base_uri": "https://localhost:8080/"
        },
        "id": "_xrVeadRemMi",
        "outputId": "cea3e3df-caec-49fc-f29b-5a7fe68ce578"
      },
      "execution_count": 6,
      "outputs": [
        {
          "output_type": "stream",
          "name": "stdout",
          "text": [
            "Strumming the guitar \n",
            "Playing the piano \n"
          ]
        }
      ]
    },
    {
      "cell_type": "code",
      "source": [
        "#7. Create a class MathOperations with a class method add_numbers() to add two numbers and a static method subtract_numbers() to subtract two numbers.\n",
        "class MathOperations:\n",
        "    @classmethod\n",
        "    def add_numbers(cls, a, b):\n",
        "        return a + b\n",
        "\n",
        "    @staticmethod\n",
        "    def subtract_numbers(a, b):\n",
        "        return a - b\n",
        "\n",
        "sum_result = MathOperations.add_numbers(10, 5)\n",
        "print(\"Sum:\", sum_result)\n",
        "\n",
        "sub_result = MathOperations.subtract_numbers(10, 5)\n",
        "print(\"Difference:\", sub_result)\n",
        "\n",
        ""
      ],
      "metadata": {
        "colab": {
          "base_uri": "https://localhost:8080/"
        },
        "id": "9VzdLU-1epaE",
        "outputId": "54e2ee30-3bef-4b78-cfda-c096956b067c"
      },
      "execution_count": 7,
      "outputs": [
        {
          "output_type": "stream",
          "name": "stdout",
          "text": [
            "Sum: 15\n",
            "Difference: 5\n"
          ]
        }
      ]
    },
    {
      "cell_type": "code",
      "source": [
        "#8.  Implement a class Person with a class method to count the total number of persons created.\n",
        "class Person:\n",
        "    count = 0\n",
        "\n",
        "    def __init__(self, name):\n",
        "        self.name = name\n",
        "        Person.count += 1\n",
        "\n",
        "    @classmethod\n",
        "    def total_persons(cls):\n",
        "        print(f\"Total persons created: {cls.count}\")\n",
        "\n",
        "p1 = Person(\"Alice\")\n",
        "p2 = Person(\"Bob\")\n",
        "p3 = Person(\"Charlie\")\n",
        "\n",
        "Person.total_persons()"
      ],
      "metadata": {
        "colab": {
          "base_uri": "https://localhost:8080/"
        },
        "id": "DQXYmfCbevBX",
        "outputId": "6e73f8f2-2d37-4c3b-a9c6-283f3da24aa8"
      },
      "execution_count": 8,
      "outputs": [
        {
          "output_type": "stream",
          "name": "stdout",
          "text": [
            "Total persons created: 3\n"
          ]
        }
      ]
    },
    {
      "cell_type": "code",
      "source": [
        "#9. Write a class Fraction with attributes numerator and denominator. Override the str method to display the fraction as \"numerator/denominator\".\n",
        "class Fraction:\n",
        "    def __init__(self, numerator, denominator):\n",
        "        self.numerator = numerator\n",
        "        self.denominator = denominator\n",
        "\n",
        "    def __str__(self):\n",
        "        return f\"{self.numerator}/{self.denominator}\"\n",
        "\n",
        "f1 = Fraction(3, 4)\n",
        "f2 = Fraction(7, 8)\n",
        "\n",
        "print(f1)\n",
        "print(f2)"
      ],
      "metadata": {
        "colab": {
          "base_uri": "https://localhost:8080/"
        },
        "id": "UzzyRvFheytD",
        "outputId": "10c9e4dd-fb82-4aec-c58c-57c4eafafd1b"
      },
      "execution_count": 9,
      "outputs": [
        {
          "output_type": "stream",
          "name": "stdout",
          "text": [
            "3/4\n",
            "7/8\n"
          ]
        }
      ]
    },
    {
      "cell_type": "code",
      "source": [
        "#10.  Demonstrate operator overloading by creating a class Vector and overriding the add method to add two vectors.\n",
        "class Vector:\n",
        "    def __init__(self, x, y):\n",
        "        self.x = x\n",
        "        self.y = y\n",
        "\n",
        "    def __add__(self, other):\n",
        "        return Vector(self.x + other.x, self.y + other.y)\n",
        "\n",
        "    def __str__(self):\n",
        "        return f\"Vector({self.x}, {self.y})\"\n",
        "\n",
        "v1 = Vector(2, 3)\n",
        "v2 = Vector(4, 5)\n",
        "\n",
        "v3 = v1 + v2\n",
        "\n",
        "print(v3)\n"
      ],
      "metadata": {
        "colab": {
          "base_uri": "https://localhost:8080/"
        },
        "id": "7xm4c9jRe5fS",
        "outputId": "1c2da8f7-7e5d-4224-9ea1-9ffdf5e9487f"
      },
      "execution_count": 10,
      "outputs": [
        {
          "output_type": "stream",
          "name": "stdout",
          "text": [
            "Vector(6, 8)\n"
          ]
        }
      ]
    },
    {
      "cell_type": "code",
      "source": [
        "#11. Create a class Person with attributes name and age. Add a method greet() that prints \"Hello, my name is {name} and I am {age} years old.\"\n",
        "class Person:\n",
        "    def __init__(self, name, age):\n",
        "        self.name = name\n",
        "        self.age = age\n",
        "\n",
        "    def greet(self):\n",
        "        print(f\"Hello, my name is {self.name} and I am {self.age} years old.\")\n",
        "\n",
        "p1 = Person(\"Alice\", 25)\n",
        "\n",
        "p1.greet()\n"
      ],
      "metadata": {
        "colab": {
          "base_uri": "https://localhost:8080/"
        },
        "id": "d-Y7CA2Ge67s",
        "outputId": "a0c864ae-5334-4eb4-86ad-d2ba949f9ccf"
      },
      "execution_count": 11,
      "outputs": [
        {
          "output_type": "stream",
          "name": "stdout",
          "text": [
            "Hello, my name is Alice and I am 25 years old.\n"
          ]
        }
      ]
    },
    {
      "cell_type": "code",
      "source": [
        "#12. Implement a class Student with attributes name and grades. Create a method average_grade() to compute the average of the grades\n",
        "class Student:\n",
        "    def __init__(self, name, grades):\n",
        "        self.name = name\n",
        "        self.grades = grades\n",
        "\n",
        "    def average_grade(self):\n",
        "        if len(self.grades) == 0:\n",
        "            return 0\n",
        "        return sum(self.grades) / len(self.grades)\n",
        "\n",
        "s1 = Student(\"Aravind \", [85, 90, 78, 92])\n",
        "\n",
        "print(f\"{s1.name}'s average grade is: {s1.average_grade():.2f}\")"
      ],
      "metadata": {
        "colab": {
          "base_uri": "https://localhost:8080/"
        },
        "id": "4xniD2fOe-Ek",
        "outputId": "74445366-ec1c-409f-fbb6-fac91205e876"
      },
      "execution_count": 13,
      "outputs": [
        {
          "output_type": "stream",
          "name": "stdout",
          "text": [
            "Aravind 's average grade is: 86.25\n"
          ]
        }
      ]
    },
    {
      "cell_type": "code",
      "source": [
        "#13. Create a class Rectangle with methods set_dimensions() to set the dimensions and area() to calculate the area.\n",
        "class Rectangle:\n",
        "    def __init__(self):\n",
        "        self.length = 0\n",
        "        self.width = 0\n",
        "\n",
        "    def set_dimensions(self, length, width):\n",
        "        self.length = length\n",
        "        self.width = width\n",
        "\n",
        "    def area(self):\n",
        "        return self.length * self.width\n",
        "\n",
        "rect = Rectangle()\n",
        "\n",
        "rect.set_dimensions(5, 3)\n",
        "\n",
        "print(\"Area of Rectangle:\", rect.area())\n"
      ],
      "metadata": {
        "colab": {
          "base_uri": "https://localhost:8080/"
        },
        "id": "MhMhN9G1fGKR",
        "outputId": "09c25160-cdf9-4aeb-cf68-6fc661016acc"
      },
      "execution_count": 14,
      "outputs": [
        {
          "output_type": "stream",
          "name": "stdout",
          "text": [
            "Area of Rectangle: 15\n"
          ]
        }
      ]
    },
    {
      "cell_type": "code",
      "source": [
        "#14.  Create a class Employee with a method calculate_salary() that computes the salary based on hours worked and hourly rate. Create a derived class Manager that adds a bonus to the salary.\n",
        "# Base class\n",
        "class Employee:\n",
        "    def __init__(self, name, hours_worked, hourly_rate):\n",
        "        self.name = name\n",
        "        self.hours_worked = hours_worked\n",
        "        self.hourly_rate = hourly_rate\n",
        "\n",
        "    def calculate_salary(self):\n",
        "        return self.hours_worked * self.hourly_rate\n",
        "\n",
        "class Manager(Employee):\n",
        "    def __init__(self, name, hours_worked, hourly_rate, bonus):\n",
        "        super().__init__(name, hours_worked, hourly_rate)\n",
        "        self.bonus = bonus\n",
        "\n",
        "    def calculate_salary(self):\n",
        "        base_salary = super().calculate_salary()\n",
        "        return base_salary + self.bonus\n",
        "\n",
        "emp = Employee(\"Alice\", 40, 500)\n",
        "mgr = Manager(\"Bob\", 40, 500, 2000)\n",
        "\n",
        "print(f\"{emp.name}'s Salary: ₹{emp.calculate_salary()}\")\n",
        "print(f\"{mgr.name}'s Salary: ₹{mgr.calculate_salary()}\")\n"
      ],
      "metadata": {
        "colab": {
          "base_uri": "https://localhost:8080/"
        },
        "id": "nzM9O6MAfJjT",
        "outputId": "dc19b7fe-68f7-4c32-e2fa-15098fbe187d"
      },
      "execution_count": 15,
      "outputs": [
        {
          "output_type": "stream",
          "name": "stdout",
          "text": [
            "Alice's Salary: ₹20000\n",
            "Bob's Salary: ₹22000\n"
          ]
        }
      ]
    },
    {
      "cell_type": "code",
      "source": [
        "#15. Create a class Product with attributes name, price, and quantity. Implement a method total_price() that calculates the total price of the product.\n",
        "class Product:\n",
        "    def __init__(self, name, price, quantity):\n",
        "        self.name = name\n",
        "        self.price = price\n",
        "        self.quantity = quantity\n",
        "\n",
        "    def total_price(self):\n",
        "        return self.price * self.quantity\n",
        "\n",
        "p1 = Product(\"Laptop\", 50000, 2)\n",
        "\n",
        "print(f\"Total price of {p1.name}: ₹{p1.total_price()}\")"
      ],
      "metadata": {
        "colab": {
          "base_uri": "https://localhost:8080/"
        },
        "id": "_Xgs1H_nfNjS",
        "outputId": "524fd67c-4c9e-49c1-b3d9-360acd196600"
      },
      "execution_count": 16,
      "outputs": [
        {
          "output_type": "stream",
          "name": "stdout",
          "text": [
            "Total price of Laptop: ₹100000\n"
          ]
        }
      ]
    },
    {
      "cell_type": "code",
      "source": [
        "#16.  Create a class Animal with an abstract method sound(). Create two derived classes Cow and Sheep that implement the sound() method.\n",
        "from abc import ABC, abstractmethod\n",
        "\n",
        "class Animal(ABC):\n",
        "    @abstractmethod\n",
        "    def sound(self):\n",
        "        pass\n",
        "\n",
        "class Cow(Animal):\n",
        "    def sound(self):\n",
        "        print(\"Cow says: Moo!\")\n",
        "\n",
        "class Sheep(Animal):\n",
        "    def sound(self):\n",
        "        print(\"Sheep says: Baa!\")\n",
        "\n",
        "c = Cow()\n",
        "s = Sheep()\n",
        "\n",
        "c.sound()\n",
        "s.sound()"
      ],
      "metadata": {
        "colab": {
          "base_uri": "https://localhost:8080/"
        },
        "id": "_j_UtKyLfQ6d",
        "outputId": "bbcb331d-db09-43c2-d6af-ae43e2f263f5"
      },
      "execution_count": 17,
      "outputs": [
        {
          "output_type": "stream",
          "name": "stdout",
          "text": [
            "Cow says: Moo!\n",
            "Sheep says: Baa!\n"
          ]
        }
      ]
    },
    {
      "cell_type": "code",
      "source": [
        "#17.  Create a class Book with attributes title, author, and year_published. Add a method get_book_info() that returns a formatted string with the book's details.\n",
        "class Book:\n",
        "    def __init__(self, title, author, year_published):\n",
        "        self.title = title\n",
        "        self.author = author\n",
        "        self.year_published = year_published\n",
        "\n",
        "    def get_book_info(self):\n",
        "        return f\"'{self.title}' by {self.author}, published in {self.year_published}\"\n",
        "\n",
        "b1 = Book(\"The Alchemist\", \"Paulo Coelho\", 1988)\n",
        "\n",
        "print(b1.get_book_info())\n"
      ],
      "metadata": {
        "colab": {
          "base_uri": "https://localhost:8080/"
        },
        "id": "OqMYtCpQfVTb",
        "outputId": "f834c361-b82a-42df-9f2d-66a5406ea120"
      },
      "execution_count": 18,
      "outputs": [
        {
          "output_type": "stream",
          "name": "stdout",
          "text": [
            "'The Alchemist' by Paulo Coelho, published in 1988\n"
          ]
        }
      ]
    },
    {
      "cell_type": "code",
      "source": [
        "#18. Create a class House with attributes address and price. Create a derived class Mansion that adds an attribute number_of_rooms.\n",
        "class House:\n",
        "    def __init__(self, address, price):\n",
        "        self.address = address\n",
        "        self.price = price\n",
        "\n",
        "    def show_info(self):\n",
        "        print(f\"Address: {self.address}, Price: ₹{self.price}\")\n",
        "\n",
        "class Mansion(House):\n",
        "    def __init__(self, address, price, number_of_rooms):\n",
        "        super().__init__(address, price)\n",
        "        self.number_of_rooms = number_of_rooms\n",
        "\n",
        "    def show_info(self):\n",
        "        super().show_info()\n",
        "        print(f\"Number of Rooms: {self.number_of_rooms}\")\n",
        "\n",
        "h = House(\"123 Main St\", 5000000)\n",
        "m = Mansion(\"456 Elite Ave\", 15000000, 10)\n",
        "\n",
        "h.show_info()\n",
        "print()\n",
        "m.show_info()\n"
      ],
      "metadata": {
        "colab": {
          "base_uri": "https://localhost:8080/"
        },
        "id": "CETz6UV5facS",
        "outputId": "00886796-abce-4bb8-927a-d30f06d6b8a7"
      },
      "execution_count": 19,
      "outputs": [
        {
          "output_type": "stream",
          "name": "stdout",
          "text": [
            "Address: 123 Main St, Price: ₹5000000\n",
            "\n",
            "Address: 456 Elite Ave, Price: ₹15000000\n",
            "Number of Rooms: 10\n"
          ]
        }
      ]
    }
  ]
}